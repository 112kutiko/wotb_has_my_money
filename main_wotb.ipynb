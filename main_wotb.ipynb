{
 "cells": [
  {
   "cell_type": "code",
   "execution_count": 1,
   "id": "56f4c03c",
   "metadata": {},
   "outputs": [],
   "source": [
    "import pandas as pd\n",
    "import tkinter  as tk\n",
    "import sys  \n",
    "import win32ctypes.core\n",
    "import os\n",
    "from tkinter import filedialog\n",
    "import plyer \n",
    "from tkinter import messagebox"
   ]
  },
  {
   "cell_type": "code",
   "execution_count": 2,
   "id": "a48abe62",
   "metadata": {},
   "outputs": [],
   "source": [
    "def fileo():\n",
    "    current_directory = plyer.filechooser.open_file()\n",
    "    return current_directory;"
   ]
  },
  {
   "cell_type": "code",
   "execution_count": 3,
   "id": "0d41d982",
   "metadata": {},
   "outputs": [],
   "source": [
    "s=fileo()"
   ]
  },
  {
   "cell_type": "code",
   "execution_count": 76,
   "id": "907e137c",
   "metadata": {},
   "outputs": [
    {
     "name": "stdout",
     "output_type": "stream",
     "text": [
      "start\n",
      "\n"
     ]
    }
   ],
   "source": [
    "print(\"start\") \n",
    "e=str(s[0]).replace(chr(92), \"/\") \n",
    "\n",
    "df = pd.read_csv (e, sep=';') \n",
    "#skiprows=1,names=['ACTION_DT', 'ITEM_CNT', 'PAYMENT_CURRENCY', 'PAYED_IN_CURR_AMT', 'IS_GIFT', 'ORDER_UUID','PAY_COUPON_NAME','PAY_ORDER_STATUS_CODE','PAY_AGGREGATOR_DESC','PAY_ITEM_TYPE_NAME','AA_PACKAGE_LIST']\n",
    "pd.set_option(\"max_rows\", None)\n",
    "rez=pd.DataFrame(df)\n",
    "\n",
    "df['PAYED_IN_CURR_AMT'].astype('float')\n",
    "print(\"\")"
   ]
  },
  {
   "cell_type": "code",
   "execution_count": 6,
   "id": "ff0ef96e",
   "metadata": {},
   "outputs": [],
   "source": [
    "filtra=rez[['ACTION_DT','PAYMENT_CURRENCY','PAYED_IN_CURR_AMT','PAY_ORDER_STATUS_CODE','PAY_AGGREGATOR_DESC','PAY_ITEM_TYPE_NAME','AA_PACKAGE_LIST']] \n",
    "all_cost=filtra[['PAY_ORDER_STATUS_CODE','PAYED_IN_CURR_AMT','PAY_AGGREGATOR_DESC']]\n"
   ]
  },
  {
   "cell_type": "code",
   "execution_count": 21,
   "id": "c1e7600c",
   "metadata": {},
   "outputs": [],
   "source": [
    "\n",
    "cop=3;\n",
    "\n",
    "#print(all_cost['PAYED_IN_CURR_AMT'].sum() ) \n",
    "a=all_cost.groupby('PAY_ORDER_STATUS_CODE')['PAY_AGGREGATOR_DESC'].value_counts()\n",
    "suma= all_cost.groupby('PAY_ORDER_STATUS_CODE')['PAYED_IN_CURR_AMT'].sum() \n",
    "#print(round(suma['PAID'],2))\n",
    "na=list(a['PAID'].index)\n",
    "naa=list(a['PAID'].values) \n",
    "#print(a['PAID'])\n",
    "#print(len(naa))\n",
    "#print(len(na)) \n",
    "list_of=[];\n",
    "\n",
    "for i  in range(len(naa)): \n",
    "   # print(na[i] + \" \" +str(naa[i]) )\n",
    "    list_of.append(na[i] + \" \" +str(naa[i]) );\n",
    "    \n",
    "#print(naa) "
   ]
  },
  {
   "cell_type": "code",
   "execution_count": 73,
   "id": "d258dad8",
   "metadata": {},
   "outputs": [],
   "source": [
    "root = tk.Tk()\n",
    "root.geometry(\"390x150\")\n",
    "root.title(\"how much money did i spend on the tank\")\n",
    "canvas = tk.Canvas(root,bg='grey') \n",
    "ints0 = tk.Label(root,text=\"how much money did i spend on the tank\")\n",
    "ints0.grid(row=1, column=0,columnspan=2)  \n",
    "ints1 = tk.Label(root,text=\"all the purchases you made: \",anchor='w',justify=\"left\",padx=0)\n",
    "ints1.grid(row=2, column=0,sticky = 'w')  \n",
    "ints = tk.Label(root,text=\"money: \",anchor='w',padx=0)\n",
    "ints2 = tk.Label(root,text=filtra['PAY_ORDER_STATUS_CODE'].value_counts()['PAID'])\n",
    "ints2.grid(row=2, column=1,sticky = 'w')  \n",
    "ints3 = tk.Label(root,text=round(suma['PAID'],2))\n",
    "ints3.grid(row=3, column=1,sticky = 'w')  \n",
    "ints.grid(row=3, column=0,sticky = 'w')   \n",
    "\n",
    "my = tk.Label(root,text=\"mainly used for purchasing:\",anchor='w',justify=\"left\",padx=0)\n",
    "my.grid(row=4, column=0,sticky = 'w') \n",
    "\n",
    "\n",
    "Lb1 = tk.Listbox(root,selectmode=\"BROWSE\", height=4)\n",
    "for i in range(len(naa)): \n",
    "    Lb1.insert(i,list_of[i]) \n",
    "Lb1.grid(row=4, column=1)  \n",
    "\n",
    "\n",
    "root.mainloop()"
   ]
  }
 ],
 "metadata": {
  "kernelspec": {
   "display_name": "Python 3",
   "language": "python",
   "name": "python3"
  },
  "language_info": {
   "codemirror_mode": {
    "name": "ipython",
    "version": 3
   },
   "file_extension": ".py",
   "mimetype": "text/x-python",
   "name": "python",
   "nbconvert_exporter": "python",
   "pygments_lexer": "ipython3",
   "version": "3.8.10"
  }
 },
 "nbformat": 4,
 "nbformat_minor": 5
}
